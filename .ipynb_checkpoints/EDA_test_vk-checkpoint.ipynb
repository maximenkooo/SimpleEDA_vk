{
 "cells": [
  {
   "cell_type": "code",
   "execution_count": 5,
   "metadata": {},
   "outputs": [],
   "source": [
    "import pandas as pd\n",
    "import numpy as np\n",
    "from datetime import datetime\n",
    "import matplotlib.pyplot as plt\n",
    "import seaborn as sns\n",
    "# import matplotlib.pyp\n",
    "import plotly.graph_objs as go\n",
    "from plotly.offline import iplot #download_plotlyjs, init_notebook_mode, plot, \n",
    "import plotly"
   ]
  },
  {
   "cell_type": "code",
   "execution_count": 6,
   "metadata": {},
   "outputs": [],
   "source": [
    "df = pd.read_csv('test_data.csv', parse_dates=['date'])"
   ]
  },
  {
   "cell_type": "code",
   "execution_count": 7,
   "metadata": {},
   "outputs": [
    {
     "data": {
      "text/html": [
       "<div>\n",
       "<style scoped>\n",
       "    .dataframe tbody tr th:only-of-type {\n",
       "        vertical-align: middle;\n",
       "    }\n",
       "\n",
       "    .dataframe tbody tr th {\n",
       "        vertical-align: top;\n",
       "    }\n",
       "\n",
       "    .dataframe thead th {\n",
       "        text-align: right;\n",
       "    }\n",
       "</style>\n",
       "<table border=\"1\" class=\"dataframe\">\n",
       "  <thead>\n",
       "    <tr style=\"text-align: right;\">\n",
       "      <th></th>\n",
       "      <th>time</th>\n",
       "      <th>event</th>\n",
       "      <th>ad_cost_type</th>\n",
       "      <th>has_video</th>\n",
       "      <th>agency_union_id</th>\n",
       "      <th>client_union_id</th>\n",
       "      <th>campaign_union_id</th>\n",
       "      <th>ad_id</th>\n",
       "      <th>platform</th>\n",
       "      <th>date</th>\n",
       "    </tr>\n",
       "  </thead>\n",
       "  <tbody>\n",
       "    <tr>\n",
       "      <th>0</th>\n",
       "      <td>1.554744e+09</td>\n",
       "      <td>report</td>\n",
       "      <td>CPM</td>\n",
       "      <td>0</td>\n",
       "      <td>no_agency</td>\n",
       "      <td>client_21074</td>\n",
       "      <td>campaign_27489</td>\n",
       "      <td>ad_27489</td>\n",
       "      <td>android</td>\n",
       "      <td>2019-04-08</td>\n",
       "    </tr>\n",
       "    <tr>\n",
       "      <th>1</th>\n",
       "      <td>1.555103e+09</td>\n",
       "      <td>click</td>\n",
       "      <td>CPM</td>\n",
       "      <td>0</td>\n",
       "      <td>no_agency</td>\n",
       "      <td>client_22392</td>\n",
       "      <td>campaign_35893</td>\n",
       "      <td>ad_35893</td>\n",
       "      <td>android</td>\n",
       "      <td>2019-04-12</td>\n",
       "    </tr>\n",
       "    <tr>\n",
       "      <th>2</th>\n",
       "      <td>1.555403e+09</td>\n",
       "      <td>click</td>\n",
       "      <td>CPM</td>\n",
       "      <td>0</td>\n",
       "      <td>no_agency</td>\n",
       "      <td>client_16836</td>\n",
       "      <td>campaign_26799</td>\n",
       "      <td>ad_26804</td>\n",
       "      <td>web</td>\n",
       "      <td>2019-04-16</td>\n",
       "    </tr>\n",
       "    <tr>\n",
       "      <th>3</th>\n",
       "      <td>1.554822e+09</td>\n",
       "      <td>click</td>\n",
       "      <td>CPM</td>\n",
       "      <td>0</td>\n",
       "      <td>no_agency</td>\n",
       "      <td>client_22920</td>\n",
       "      <td>campaign_37146</td>\n",
       "      <td>ad_37146</td>\n",
       "      <td>android</td>\n",
       "      <td>2019-04-09</td>\n",
       "    </tr>\n",
       "    <tr>\n",
       "      <th>4</th>\n",
       "      <td>1.554967e+09</td>\n",
       "      <td>click</td>\n",
       "      <td>CPM</td>\n",
       "      <td>0</td>\n",
       "      <td>no_agency</td>\n",
       "      <td>client_645</td>\n",
       "      <td>campaign_15893</td>\n",
       "      <td>ad_15944</td>\n",
       "      <td>web</td>\n",
       "      <td>2019-04-11</td>\n",
       "    </tr>\n",
       "  </tbody>\n",
       "</table>\n",
       "</div>"
      ],
      "text/plain": [
       "           time   event ad_cost_type  has_video agency_union_id  \\\n",
       "0  1.554744e+09  report          CPM          0       no_agency   \n",
       "1  1.555103e+09   click          CPM          0       no_agency   \n",
       "2  1.555403e+09   click          CPM          0       no_agency   \n",
       "3  1.554822e+09   click          CPM          0       no_agency   \n",
       "4  1.554967e+09   click          CPM          0       no_agency   \n",
       "\n",
       "  client_union_id campaign_union_id     ad_id platform       date  \n",
       "0    client_21074    campaign_27489  ad_27489  android 2019-04-08  \n",
       "1    client_22392    campaign_35893  ad_35893  android 2019-04-12  \n",
       "2    client_16836    campaign_26799  ad_26804      web 2019-04-16  \n",
       "3    client_22920    campaign_37146  ad_37146  android 2019-04-09  \n",
       "4      client_645    campaign_15893  ad_15944      web 2019-04-11  "
      ]
     },
     "execution_count": 7,
     "metadata": {},
     "output_type": "execute_result"
    }
   ],
   "source": [
    "df.head()"
   ]
  },
  {
   "cell_type": "markdown",
   "metadata": {},
   "source": [
    "Преобразование времени"
   ]
  },
  {
   "cell_type": "code",
   "execution_count": 8,
   "metadata": {},
   "outputs": [],
   "source": [
    "df.time = df.time.astype('int').apply(lambda x: datetime.utcfromtimestamp(x).strftime('%Y-%m-%d %H:%M:%S'))"
   ]
  },
  {
   "cell_type": "code",
   "execution_count": 9,
   "metadata": {},
   "outputs": [],
   "source": [
    "df.time = pd.to_datetime(df.time)"
   ]
  },
  {
   "cell_type": "code",
   "execution_count": 10,
   "metadata": {},
   "outputs": [
    {
     "name": "stdout",
     "output_type": "stream",
     "text": [
      "<class 'pandas.core.frame.DataFrame'>\n",
      "RangeIndex: 122097 entries, 0 to 122096\n",
      "Data columns (total 10 columns):\n",
      "time                 122097 non-null datetime64[ns]\n",
      "event                122097 non-null object\n",
      "ad_cost_type         122097 non-null object\n",
      "has_video            122097 non-null int64\n",
      "agency_union_id      122097 non-null object\n",
      "client_union_id      122097 non-null object\n",
      "campaign_union_id    122097 non-null object\n",
      "ad_id                122097 non-null object\n",
      "platform             122097 non-null object\n",
      "date                 122097 non-null datetime64[ns]\n",
      "dtypes: datetime64[ns](2), int64(1), object(7)\n",
      "memory usage: 9.3+ MB\n"
     ]
    }
   ],
   "source": [
    "df.info()"
   ]
  },
  {
   "cell_type": "markdown",
   "metadata": {},
   "source": [
    "Статистический обзор распределения категориальных признаков"
   ]
  },
  {
   "cell_type": "code",
   "execution_count": 11,
   "metadata": {},
   "outputs": [
    {
     "data": {
      "text/plain": [
       "view      87975\n",
       "click     28639\n",
       "report     5483\n",
       "Name: event, dtype: int64"
      ]
     },
     "execution_count": 11,
     "metadata": {},
     "output_type": "execute_result"
    }
   ],
   "source": [
    "df.event.value_counts()"
   ]
  },
  {
   "cell_type": "code",
   "execution_count": 12,
   "metadata": {},
   "outputs": [
    {
     "data": {
      "text/plain": [
       "CPC    74202\n",
       "CPM    47895\n",
       "Name: ad_cost_type, dtype: int64"
      ]
     },
     "execution_count": 12,
     "metadata": {},
     "output_type": "execute_result"
    }
   ],
   "source": [
    "df.ad_cost_type.value_counts()"
   ]
  },
  {
   "cell_type": "code",
   "execution_count": 13,
   "metadata": {},
   "outputs": [
    {
     "data": {
      "text/plain": [
       "agency_2      50796\n",
       "no_agency     47267\n",
       "agency_33      1813\n",
       "agency_158     1712\n",
       "agency_543     1218\n",
       "Name: agency_union_id, dtype: int64"
      ]
     },
     "execution_count": 13,
     "metadata": {},
     "output_type": "execute_result"
    }
   ],
   "source": [
    "df.agency_union_id.value_counts().head()"
   ]
  },
  {
   "cell_type": "code",
   "execution_count": 14,
   "metadata": {},
   "outputs": [
    {
     "data": {
      "text/plain": [
       "client_47270     47739\n",
       "client_47269      2285\n",
       "client_99583      1732\n",
       "client_42         1493\n",
       "client_102753      874\n",
       "Name: client_union_id, dtype: int64"
      ]
     },
     "execution_count": 14,
     "metadata": {},
     "output_type": "execute_result"
    }
   ],
   "source": [
    "df.client_union_id.value_counts().head()"
   ]
  },
  {
   "cell_type": "code",
   "execution_count": 15,
   "metadata": {},
   "outputs": [
    {
     "data": {
      "text/plain": [
       "android    83312\n",
       "iphone     16628\n",
       "web        14108\n",
       "mvk         7717\n",
       "wphone       332\n",
       "Name: platform, dtype: int64"
      ]
     },
     "execution_count": 15,
     "metadata": {},
     "output_type": "execute_result"
    }
   ],
   "source": [
    "df.platform.value_counts()"
   ]
  },
  {
   "cell_type": "code",
   "execution_count": 16,
   "metadata": {},
   "outputs": [
    {
     "data": {
      "text/plain": [
       "ad_49554    27500\n",
       "ad_49556     8218\n",
       "ad_49560     7496\n",
       "ad_49564     4491\n",
       "ad_47269     1867\n",
       "Name: ad_id, dtype: int64"
      ]
     },
     "execution_count": 16,
     "metadata": {},
     "output_type": "execute_result"
    }
   ],
   "source": [
    "df.ad_id.value_counts().head()"
   ]
  },
  {
   "cell_type": "code",
   "execution_count": 17,
   "metadata": {},
   "outputs": [
    {
     "data": {
      "text/plain": [
       "campaign_49554    47739\n",
       "campaign_47269     1867\n",
       "campaign_5822      1012\n",
       "campaign_387        794\n",
       "campaign_1181       698\n",
       "Name: campaign_union_id, dtype: int64"
      ]
     },
     "execution_count": 17,
     "metadata": {},
     "output_type": "execute_result"
    }
   ],
   "source": [
    "df.campaign_union_id.value_counts().head()"
   ]
  },
  {
   "cell_type": "code",
   "execution_count": 18,
   "metadata": {},
   "outputs": [
    {
     "data": {
      "text/plain": [
       "0    121429\n",
       "1       668\n",
       "Name: has_video, dtype: int64"
      ]
     },
     "execution_count": 18,
     "metadata": {},
     "output_type": "execute_result"
    }
   ],
   "source": [
    "df.has_video.value_counts()"
   ]
  },
  {
   "cell_type": "markdown",
   "metadata": {},
   "source": [
    "Расмотрение признаков по времени"
   ]
  },
  {
   "cell_type": "code",
   "execution_count": 19,
   "metadata": {},
   "outputs": [
    {
     "data": {
      "text/plain": [
       "array([2019])"
      ]
     },
     "execution_count": 19,
     "metadata": {},
     "output_type": "execute_result"
    }
   ],
   "source": [
    "df['time'].apply(lambda ts: ts.year).astype('int').unique()"
   ]
  },
  {
   "cell_type": "code",
   "execution_count": 20,
   "metadata": {},
   "outputs": [
    {
     "data": {
      "text/plain": [
       "array([4])"
      ]
     },
     "execution_count": 20,
     "metadata": {},
     "output_type": "execute_result"
    }
   ],
   "source": [
    "df['time'].apply(lambda ts: ts.month).astype('int').unique()"
   ]
  },
  {
   "cell_type": "code",
   "execution_count": 21,
   "metadata": {},
   "outputs": [
    {
     "data": {
      "text/plain": [
       "array([4])"
      ]
     },
     "execution_count": 21,
     "metadata": {},
     "output_type": "execute_result"
    }
   ],
   "source": [
    "df['date'].apply(lambda ts: ts.month).astype('int').unique()"
   ]
  },
  {
   "cell_type": "code",
   "execution_count": 22,
   "metadata": {},
   "outputs": [
    {
     "data": {
      "text/plain": [
       "array([ 8, 12, 16,  9, 11, 13,  5, 10,  2, 14,  7,  4,  3,  1, 15,  6])"
      ]
     },
     "execution_count": 22,
     "metadata": {},
     "output_type": "execute_result"
    }
   ],
   "source": [
    "df['time'].apply(lambda ts: ts.day).astype('int').unique()"
   ]
  },
  {
   "cell_type": "code",
   "execution_count": 23,
   "metadata": {},
   "outputs": [
    {
     "data": {
      "text/plain": [
       "array([ 8, 12, 16,  9, 11, 13,  5, 10,  2, 14,  7,  4,  3,  1, 15,  6])"
      ]
     },
     "execution_count": 23,
     "metadata": {},
     "output_type": "execute_result"
    }
   ],
   "source": [
    "df['date'].apply(lambda ts: ts.day).astype('int').unique()"
   ]
  },
  {
   "cell_type": "code",
   "execution_count": 24,
   "metadata": {},
   "outputs": [
    {
     "data": {
      "text/html": [
       "<div>\n",
       "<style scoped>\n",
       "    .dataframe tbody tr th:only-of-type {\n",
       "        vertical-align: middle;\n",
       "    }\n",
       "\n",
       "    .dataframe tbody tr th {\n",
       "        vertical-align: top;\n",
       "    }\n",
       "\n",
       "    .dataframe thead th {\n",
       "        text-align: right;\n",
       "    }\n",
       "</style>\n",
       "<table border=\"1\" class=\"dataframe\">\n",
       "  <thead>\n",
       "    <tr style=\"text-align: right;\">\n",
       "      <th></th>\n",
       "      <th>date</th>\n",
       "      <th>time</th>\n",
       "    </tr>\n",
       "  </thead>\n",
       "  <tbody>\n",
       "    <tr>\n",
       "      <th>0</th>\n",
       "      <td>2019-04-08</td>\n",
       "      <td>2019-04-08 17:22:25</td>\n",
       "    </tr>\n",
       "    <tr>\n",
       "      <th>1</th>\n",
       "      <td>2019-04-12</td>\n",
       "      <td>2019-04-12 21:10:58</td>\n",
       "    </tr>\n",
       "    <tr>\n",
       "      <th>2</th>\n",
       "      <td>2019-04-16</td>\n",
       "      <td>2019-04-16 08:16:41</td>\n",
       "    </tr>\n",
       "    <tr>\n",
       "      <th>3</th>\n",
       "      <td>2019-04-09</td>\n",
       "      <td>2019-04-09 15:07:59</td>\n",
       "    </tr>\n",
       "    <tr>\n",
       "      <th>4</th>\n",
       "      <td>2019-04-11</td>\n",
       "      <td>2019-04-11 07:11:57</td>\n",
       "    </tr>\n",
       "  </tbody>\n",
       "</table>\n",
       "</div>"
      ],
      "text/plain": [
       "        date                time\n",
       "0 2019-04-08 2019-04-08 17:22:25\n",
       "1 2019-04-12 2019-04-12 21:10:58\n",
       "2 2019-04-16 2019-04-16 08:16:41\n",
       "3 2019-04-09 2019-04-09 15:07:59\n",
       "4 2019-04-11 2019-04-11 07:11:57"
      ]
     },
     "execution_count": 24,
     "metadata": {},
     "output_type": "execute_result"
    }
   ],
   "source": [
    "df[['date','time']].head()"
   ]
  },
  {
   "cell_type": "markdown",
   "metadata": {},
   "source": [
    "Колонка 'time' дублирует колонку 'date' с добавлением времени"
   ]
  },
  {
   "cell_type": "code",
   "execution_count": 25,
   "metadata": {},
   "outputs": [
    {
     "data": {
      "image/png": "[encoded data removed]",
      "text/plain": [
       "<Figure size 432x288 with 1 Axes>"
      ]
     },
     "metadata": {
      "needs_background": "light"
     },
     "output_type": "display_data"
    }
   ],
   "source": [
    "# Распределение событий\n",
    "df.groupby('event').size().plot(kind='bar');"
   ]
  },
  {
   "cell_type": "code",
   "execution_count": 26,
   "metadata": {},
   "outputs": [
    {
     "data": {
      "text/plain": [
       "array([16097,  9299,  8585,  7046,  6832,  5828,  5390,  4936,  4842,\n",
       "        3216,  3005,  2983,  2869,  2685,  2284,  2078])"
      ]
     },
     "execution_count": 26,
     "metadata": {},
     "output_type": "execute_result"
    }
   ],
   "source": [
    "df[(df.event == 'view')]['date'].value_counts().values"
   ]
  },
  {
   "cell_type": "code",
   "execution_count": 27,
   "metadata": {},
   "outputs": [
    {
     "data": {
      "text/plain": [
       "<matplotlib.axes._subplots.AxesSubplot at 0x7fb25472dfd0>"
      ]
     },
     "execution_count": 27,
     "metadata": {},
     "output_type": "execute_result"
    },
    {
     "data": {
      "image/png": "[encoded data removed]",
      "text/plain": [
       "<Figure size 432x288 with 1 Axes>"
      ]
     },
     "metadata": {
      "needs_background": "light"
     },
     "output_type": "display_data"
    }
   ],
   "source": [
    "df[(df.event == 'view')]['date'].value_counts().plot()"
   ]
  },
  {
   "cell_type": "code",
   "execution_count": 28,
   "metadata": {},
   "outputs": [
    {
     "data": {
      "text/plain": [
       "<matplotlib.axes._subplots.AxesSubplot at 0x7fb2546bf5f8>"
      ]
     },
     "execution_count": 28,
     "metadata": {},
     "output_type": "execute_result"
    },
    {
     "data": {
      "image/png": "[encoded data removed]",
      "text/plain": [
       "<Figure size 432x288 with 1 Axes>"
      ]
     },
     "metadata": {
      "needs_background": "light"
     },
     "output_type": "display_data"
    }
   ],
   "source": [
    "# второй способ построения графика\n",
    "df[(df.event == 'view')].groupby('date').size().plot()"
   ]
  },
  {
   "cell_type": "code",
   "execution_count": 30,
   "metadata": {},
   "outputs": [
    {
     "data": {
      "application/vnd.plotly.v1+json": {
       "config": {
        "linkText": "Export to plot.ly",
        "plotlyServerURL": "https://plot.ly",
        "showLink": false
       },
       "data": [
        {
         "type": "scatter",
         "uid": "4edd4f41-13f6-4c6d-9a8a-6a7ea98fbcd1",
         "x": [
          "2019-04-01",
          "2019-04-02",
          "2019-04-03",
          "2019-04-04",
          "2019-04-05",
          "2019-04-06",
          "2019-04-07",
          "2019-04-08",
          "2019-04-09",
          "2019-04-10",
          "2019-04-11",
          "2019-04-12",
          "2019-04-13",
          "2019-04-14",
          "2019-04-15",
          "2019-04-16"
         ],
         "y": [
          2983,
          3005,
          3216,
          2869,
          2685,
          2078,
          2284,
          7046,
          5828,
          4842,
          16097,
          8585,
          9299,
          6832,
          5390,
          4936
         ]
        }
       ],
       "layout": {
        "title": {
         "text": "Распределение просмотров по дням"
        },
        "xaxis": {
         "title": {
          "text": "Дни"
         }
        },
        "yaxis": {
         "title": {
          "text": "Кол-во просмотров"
         }
        }
       }
      }
     },
     "metadata": {},
     "output_type": "display_data"
    }
   ],
   "source": [
    "# график с помощью plotly\n",
    "years_df = df[(df.event == 'view')].groupby('date').size()\n",
    "\n",
    "trace = plotly.graph_objs.Scatter(\n",
    "    x=years_df.index,\n",
    "    y=years_df.values\n",
    ")\n",
    "data=go.Data([trace])\n",
    "layout=go.Layout(title=\"Распределение просмотров по дням\", xaxis={'title':'Дни'}, yaxis={'title':'Кол-во просмотров'})\n",
    "figure=go.Figure(data=data,layout=layout)\n",
    "iplot(figure, show_link=False)"
   ]
  },
  {
   "cell_type": "code",
   "execution_count": 31,
   "metadata": {},
   "outputs": [
    {
     "data": {
      "text/plain": [
       "'day_views_stats.html'"
      ]
     },
     "execution_count": 31,
     "metadata": {},
     "output_type": "execute_result"
    }
   ],
   "source": [
    "plotly.offline.plot(figure, filename='day_views_stats.html', show_link=True)"
   ]
  },
  {
   "cell_type": "code",
   "execution_count": 32,
   "metadata": {},
   "outputs": [
    {
     "data": {
      "image/png": "[encoded data removed]",
      "text/plain": [
       "<IPython.core.display.Image object>"
      ]
     },
     "execution_count": 32,
     "metadata": {},
     "output_type": "execute_result"
    }
   ],
   "source": [
    "from IPython.display import Image\n",
    "Image(\"day_views_stats.png\")"
   ]
  },
  {
   "cell_type": "markdown",
   "metadata": {},
   "source": [
    "График соответсвует данному в условию и отобраажет отношения кол-ва просмотров по времени"
   ]
  },
  {
   "cell_type": "markdown",
   "metadata": {},
   "source": [
    "## Анализ аномалии"
   ]
  },
  {
   "cell_type": "code",
   "execution_count": 33,
   "metadata": {},
   "outputs": [
    {
     "data": {
      "text/html": [
       "<div>\n",
       "<style scoped>\n",
       "    .dataframe tbody tr th:only-of-type {\n",
       "        vertical-align: middle;\n",
       "    }\n",
       "\n",
       "    .dataframe tbody tr th {\n",
       "        vertical-align: top;\n",
       "    }\n",
       "\n",
       "    .dataframe thead th {\n",
       "        text-align: right;\n",
       "    }\n",
       "</style>\n",
       "<table border=\"1\" class=\"dataframe\">\n",
       "  <thead>\n",
       "    <tr style=\"text-align: right;\">\n",
       "      <th></th>\n",
       "      <th>time</th>\n",
       "      <th>event</th>\n",
       "      <th>ad_cost_type</th>\n",
       "      <th>has_video</th>\n",
       "      <th>agency_union_id</th>\n",
       "      <th>client_union_id</th>\n",
       "      <th>campaign_union_id</th>\n",
       "      <th>ad_id</th>\n",
       "      <th>platform</th>\n",
       "      <th>date</th>\n",
       "    </tr>\n",
       "  </thead>\n",
       "  <tbody>\n",
       "    <tr>\n",
       "      <th>5</th>\n",
       "      <td>2019-04-16 12:48:33</td>\n",
       "      <td>view</td>\n",
       "      <td>CPC</td>\n",
       "      <td>0</td>\n",
       "      <td>no_agency</td>\n",
       "      <td>client_265</td>\n",
       "      <td>campaign_13516</td>\n",
       "      <td>ad_13517</td>\n",
       "      <td>android</td>\n",
       "      <td>2019-04-16</td>\n",
       "    </tr>\n",
       "    <tr>\n",
       "      <th>7</th>\n",
       "      <td>2019-04-05 22:24:03</td>\n",
       "      <td>view</td>\n",
       "      <td>CPM</td>\n",
       "      <td>0</td>\n",
       "      <td>agency_155</td>\n",
       "      <td>client_105617</td>\n",
       "      <td>campaign_106015</td>\n",
       "      <td>ad_106015</td>\n",
       "      <td>iphone</td>\n",
       "      <td>2019-04-05</td>\n",
       "    </tr>\n",
       "    <tr>\n",
       "      <th>8</th>\n",
       "      <td>2019-04-10 23:57:14</td>\n",
       "      <td>view</td>\n",
       "      <td>CPM</td>\n",
       "      <td>0</td>\n",
       "      <td>no_agency</td>\n",
       "      <td>client_264</td>\n",
       "      <td>campaign_13491</td>\n",
       "      <td>ad_13513</td>\n",
       "      <td>android</td>\n",
       "      <td>2019-04-10</td>\n",
       "    </tr>\n",
       "    <tr>\n",
       "      <th>9</th>\n",
       "      <td>2019-04-08 10:31:06</td>\n",
       "      <td>view</td>\n",
       "      <td>CPM</td>\n",
       "      <td>0</td>\n",
       "      <td>no_agency</td>\n",
       "      <td>client_1728</td>\n",
       "      <td>campaign_19254</td>\n",
       "      <td>ad_19255</td>\n",
       "      <td>android</td>\n",
       "      <td>2019-04-08</td>\n",
       "    </tr>\n",
       "    <tr>\n",
       "      <th>10</th>\n",
       "      <td>2019-04-08 15:44:55</td>\n",
       "      <td>view</td>\n",
       "      <td>CPC</td>\n",
       "      <td>0</td>\n",
       "      <td>agency_2</td>\n",
       "      <td>client_47270</td>\n",
       "      <td>campaign_49554</td>\n",
       "      <td>ad_49564</td>\n",
       "      <td>web</td>\n",
       "      <td>2019-04-08</td>\n",
       "    </tr>\n",
       "  </tbody>\n",
       "</table>\n",
       "</div>"
      ],
      "text/plain": [
       "                  time event ad_cost_type  has_video agency_union_id  \\\n",
       "5  2019-04-16 12:48:33  view          CPC          0       no_agency   \n",
       "7  2019-04-05 22:24:03  view          CPM          0      agency_155   \n",
       "8  2019-04-10 23:57:14  view          CPM          0       no_agency   \n",
       "9  2019-04-08 10:31:06  view          CPM          0       no_agency   \n",
       "10 2019-04-08 15:44:55  view          CPC          0        agency_2   \n",
       "\n",
       "   client_union_id campaign_union_id      ad_id platform       date  \n",
       "5       client_265    campaign_13516   ad_13517  android 2019-04-16  \n",
       "7    client_105617   campaign_106015  ad_106015   iphone 2019-04-05  \n",
       "8       client_264    campaign_13491   ad_13513  android 2019-04-10  \n",
       "9      client_1728    campaign_19254   ad_19255  android 2019-04-08  \n",
       "10    client_47270    campaign_49554   ad_49564      web 2019-04-08  "
      ]
     },
     "execution_count": 33,
     "metadata": {},
     "output_type": "execute_result"
    }
   ],
   "source": [
    "df[(df.event) == 'view'].head()"
   ]
  },
  {
   "cell_type": "code",
   "execution_count": 34,
   "metadata": {},
   "outputs": [
    {
     "data": {
      "text/plain": [
       "date        ad_cost_type\n",
       "2019-04-01  CPC              1732\n",
       "            CPM              1251\n",
       "2019-04-02  CPC              1651\n",
       "            CPM              1354\n",
       "2019-04-03  CPC              1880\n",
       "            CPM              1336\n",
       "2019-04-04  CPC              1845\n",
       "            CPM              1024\n",
       "2019-04-05  CPC              1840\n",
       "            CPM               845\n",
       "2019-04-06  CPC              1375\n",
       "            CPM               703\n",
       "2019-04-07  CPC              1467\n",
       "            CPM               817\n",
       "2019-04-08  CPC              6001\n",
       "            CPM              1045\n",
       "2019-04-09  CPC              4872\n",
       "            CPM               956\n",
       "2019-04-10  CPC              3895\n",
       "            CPM               947\n",
       "2019-04-11  CPC             15270\n",
       "            CPM               827\n",
       "2019-04-12  CPC              7683\n",
       "            CPM               902\n",
       "2019-04-13  CPC              8509\n",
       "            CPM               790\n",
       "2019-04-14  CPC              5932\n",
       "            CPM               900\n",
       "2019-04-15  CPC              4409\n",
       "            CPM               981\n",
       "2019-04-16  CPC              3858\n",
       "            CPM              1078\n",
       "Name: ad_cost_type, dtype: int64"
      ]
     },
     "execution_count": 34,
     "metadata": {},
     "output_type": "execute_result"
    }
   ],
   "source": [
    "df[(df.event) == 'view'].groupby('date')['ad_cost_type'].value_counts()"
   ]
  },
  {
   "cell_type": "markdown",
   "metadata": {},
   "source": [
    "в день аномального увеличения числа просмотров CPC (траты за клик) в разы больше"
   ]
  },
  {
   "cell_type": "code",
   "execution_count": 35,
   "metadata": {},
   "outputs": [
    {
     "data": {
      "text/plain": [
       "(122097, 10)"
      ]
     },
     "execution_count": 35,
     "metadata": {},
     "output_type": "execute_result"
    }
   ],
   "source": [
    "df.shape"
   ]
  },
  {
   "cell_type": "code",
   "execution_count": 36,
   "metadata": {},
   "outputs": [],
   "source": [
    "df_test = df"
   ]
  },
  {
   "cell_type": "code",
   "execution_count": 37,
   "metadata": {},
   "outputs": [],
   "source": [
    "df_test = df_test.drop_duplicates(subset=df_test.columns)"
   ]
  },
  {
   "cell_type": "code",
   "execution_count": 38,
   "metadata": {},
   "outputs": [
    {
     "data": {
      "text/plain": [
       "(120961, 10)"
      ]
     },
     "execution_count": 38,
     "metadata": {},
     "output_type": "execute_result"
    }
   ],
   "source": [
    "df_test.shape"
   ]
  },
  {
   "cell_type": "markdown",
   "metadata": {},
   "source": [
    "Имеются дубликаты в количестве ~ 1к"
   ]
  },
  {
   "cell_type": "code",
   "execution_count": 39,
   "metadata": {},
   "outputs": [],
   "source": [
    "excess_list = []\n",
    "for i in range(df.shape[0]):\n",
    "    if i not in df_test.index:\n",
    "        excess_list.append(i)"
   ]
  },
  {
   "cell_type": "code",
   "execution_count": 40,
   "metadata": {},
   "outputs": [
    {
     "data": {
      "text/plain": [
       "view      1110\n",
       "click       25\n",
       "report       1\n",
       "Name: event, dtype: int64"
      ]
     },
     "execution_count": 40,
     "metadata": {},
     "output_type": "execute_result"
    }
   ],
   "source": [
    "df.iloc[excess_list]['event'].value_counts()"
   ]
  },
  {
   "cell_type": "code",
   "execution_count": 41,
   "metadata": {},
   "outputs": [
    {
     "data": {
      "text/html": [
       "<div>\n",
       "<style scoped>\n",
       "    .dataframe tbody tr th:only-of-type {\n",
       "        vertical-align: middle;\n",
       "    }\n",
       "\n",
       "    .dataframe tbody tr th {\n",
       "        vertical-align: top;\n",
       "    }\n",
       "\n",
       "    .dataframe thead th {\n",
       "        text-align: right;\n",
       "    }\n",
       "</style>\n",
       "<table border=\"1\" class=\"dataframe\">\n",
       "  <thead>\n",
       "    <tr style=\"text-align: right;\">\n",
       "      <th></th>\n",
       "      <th>time</th>\n",
       "      <th>event</th>\n",
       "      <th>ad_cost_type</th>\n",
       "      <th>has_video</th>\n",
       "      <th>agency_union_id</th>\n",
       "      <th>client_union_id</th>\n",
       "      <th>campaign_union_id</th>\n",
       "      <th>ad_id</th>\n",
       "      <th>platform</th>\n",
       "      <th>date</th>\n",
       "    </tr>\n",
       "  </thead>\n",
       "  <tbody>\n",
       "    <tr>\n",
       "      <th>2234</th>\n",
       "      <td>2019-04-11 10:11:47</td>\n",
       "      <td>view</td>\n",
       "      <td>CPC</td>\n",
       "      <td>0</td>\n",
       "      <td>agency_2</td>\n",
       "      <td>client_47270</td>\n",
       "      <td>campaign_49554</td>\n",
       "      <td>ad_49554</td>\n",
       "      <td>android</td>\n",
       "      <td>2019-04-11</td>\n",
       "    </tr>\n",
       "    <tr>\n",
       "      <th>3241</th>\n",
       "      <td>2019-04-10 19:09:35</td>\n",
       "      <td>view</td>\n",
       "      <td>CPC</td>\n",
       "      <td>0</td>\n",
       "      <td>agency_2</td>\n",
       "      <td>client_47270</td>\n",
       "      <td>campaign_49554</td>\n",
       "      <td>ad_49554</td>\n",
       "      <td>iphone</td>\n",
       "      <td>2019-04-10</td>\n",
       "    </tr>\n",
       "    <tr>\n",
       "      <th>4416</th>\n",
       "      <td>2019-04-10 19:10:55</td>\n",
       "      <td>view</td>\n",
       "      <td>CPC</td>\n",
       "      <td>0</td>\n",
       "      <td>agency_2</td>\n",
       "      <td>client_47270</td>\n",
       "      <td>campaign_49554</td>\n",
       "      <td>ad_49554</td>\n",
       "      <td>android</td>\n",
       "      <td>2019-04-10</td>\n",
       "    </tr>\n",
       "    <tr>\n",
       "      <th>5290</th>\n",
       "      <td>2019-04-11 13:11:37</td>\n",
       "      <td>view</td>\n",
       "      <td>CPC</td>\n",
       "      <td>0</td>\n",
       "      <td>agency_2</td>\n",
       "      <td>client_47270</td>\n",
       "      <td>campaign_49554</td>\n",
       "      <td>ad_49554</td>\n",
       "      <td>android</td>\n",
       "      <td>2019-04-11</td>\n",
       "    </tr>\n",
       "    <tr>\n",
       "      <th>6492</th>\n",
       "      <td>2019-04-13 12:22:08</td>\n",
       "      <td>view</td>\n",
       "      <td>CPC</td>\n",
       "      <td>0</td>\n",
       "      <td>agency_2</td>\n",
       "      <td>client_47270</td>\n",
       "      <td>campaign_49554</td>\n",
       "      <td>ad_49554</td>\n",
       "      <td>android</td>\n",
       "      <td>2019-04-13</td>\n",
       "    </tr>\n",
       "  </tbody>\n",
       "</table>\n",
       "</div>"
      ],
      "text/plain": [
       "                    time event ad_cost_type  has_video agency_union_id  \\\n",
       "2234 2019-04-11 10:11:47  view          CPC          0        agency_2   \n",
       "3241 2019-04-10 19:09:35  view          CPC          0        agency_2   \n",
       "4416 2019-04-10 19:10:55  view          CPC          0        agency_2   \n",
       "5290 2019-04-11 13:11:37  view          CPC          0        agency_2   \n",
       "6492 2019-04-13 12:22:08  view          CPC          0        agency_2   \n",
       "\n",
       "     client_union_id campaign_union_id     ad_id platform       date  \n",
       "2234    client_47270    campaign_49554  ad_49554  android 2019-04-11  \n",
       "3241    client_47270    campaign_49554  ad_49554   iphone 2019-04-10  \n",
       "4416    client_47270    campaign_49554  ad_49554  android 2019-04-10  \n",
       "5290    client_47270    campaign_49554  ad_49554  android 2019-04-11  \n",
       "6492    client_47270    campaign_49554  ad_49554  android 2019-04-13  "
      ]
     },
     "execution_count": 41,
     "metadata": {},
     "output_type": "execute_result"
    }
   ],
   "source": [
    "df.iloc[excess_list].head()"
   ]
  },
  {
   "cell_type": "code",
   "execution_count": 42,
   "metadata": {},
   "outputs": [
    {
     "data": {
      "text/plain": [
       "<matplotlib.axes._subplots.AxesSubplot at 0x7fb253a86c88>"
      ]
     },
     "execution_count": 42,
     "metadata": {},
     "output_type": "execute_result"
    },
    {
     "data": {
      "image/png": "[encoded data removed]",
      "text/plain": [
       "<Figure size 432x288 with 1 Axes>"
      ]
     },
     "metadata": {
      "needs_background": "light"
     },
     "output_type": "display_data"
    }
   ],
   "source": [
    "# второй способ построения графика\n",
    "df.iloc[excess_list].groupby('event').size().plot(kind='bar')"
   ]
  },
  {
   "cell_type": "markdown",
   "metadata": {},
   "source": [
    "Большинство дубликатов относятся к типу события \"view\". Но их не достаточно много, чтобы можно было сделать вывод, что аномалии произошли из-за дубликатов."
   ]
  },
  {
   "cell_type": "code",
   "execution_count": 43,
   "metadata": {},
   "outputs": [
    {
     "data": {
      "text/plain": [
       "date        platform\n",
       "2019-04-01  android      2032\n",
       "            iphone        492\n",
       "            web           293\n",
       "            mvk           166\n",
       "2019-04-02  android      2024\n",
       "            iphone        556\n",
       "            web           265\n",
       "            mvk           160\n",
       "2019-04-03  android      2131\n",
       "            iphone        605\n",
       "            web           331\n",
       "            mvk           149\n",
       "2019-04-04  android      1907\n",
       "            iphone        522\n",
       "            web           295\n",
       "            mvk           145\n",
       "2019-04-05  android      1805\n",
       "            iphone        487\n",
       "            web           230\n",
       "            mvk           163\n",
       "2019-04-06  android      1424\n",
       "            iphone        385\n",
       "            web           144\n",
       "            mvk           125\n",
       "2019-04-07  android      1551\n",
       "            iphone        429\n",
       "            web           171\n",
       "            mvk           133\n",
       "2019-04-08  android      4377\n",
       "            iphone       1403\n",
       "                        ...  \n",
       "2019-04-09  web           554\n",
       "            mvk           459\n",
       "2019-04-10  android      3127\n",
       "            iphone        865\n",
       "            web           487\n",
       "            mvk           363\n",
       "2019-04-11  android     11547\n",
       "            iphone       1886\n",
       "            web          1499\n",
       "            mvk          1165\n",
       "2019-04-12  android      6542\n",
       "            iphone        758\n",
       "            web           665\n",
       "            mvk           620\n",
       "2019-04-13  android      7172\n",
       "            iphone        857\n",
       "            mvk           689\n",
       "            web           581\n",
       "2019-04-14  android      5116\n",
       "            iphone        748\n",
       "            mvk           493\n",
       "            web           475\n",
       "2019-04-15  android      3908\n",
       "            iphone        597\n",
       "            web           522\n",
       "            mvk           363\n",
       "2019-04-16  android      3286\n",
       "            iphone        788\n",
       "            web           511\n",
       "            mvk           351\n",
       "Name: platform, Length: 64, dtype: int64"
      ]
     },
     "execution_count": 43,
     "metadata": {},
     "output_type": "execute_result"
    }
   ],
   "source": [
    "df[(df.event == 'view')].groupby('date')['platform'].value_counts()"
   ]
  },
  {
   "cell_type": "markdown",
   "metadata": {},
   "source": [
    "В день аномальной активности больше всего использования android, как и в остальные дни"
   ]
  },
  {
   "cell_type": "code",
   "execution_count": 44,
   "metadata": {},
   "outputs": [
    {
     "data": {
      "text/plain": [
       "agency_2      14025\n",
       "no_agency      1119\n",
       "agency_29        88\n",
       "agency_33        81\n",
       "agency_77        50\n",
       "agency_148       40\n",
       "agency_11        37\n",
       "agency_606       33\n",
       "agency_51        30\n",
       "agency_70        29\n",
       "Name: agency_union_id, dtype: int64"
      ]
     },
     "execution_count": 44,
     "metadata": {},
     "output_type": "execute_result"
    }
   ],
   "source": [
    "df[(df.event == 'view')&(df.date=='2019-04-11')]['agency_union_id'].value_counts().head(10)"
   ]
  },
  {
   "cell_type": "markdown",
   "metadata": {},
   "source": [
    "Больше просмотров agency_union_id - \"agency_2\""
   ]
  },
  {
   "cell_type": "code",
   "execution_count": 45,
   "metadata": {},
   "outputs": [
    {
     "data": {
      "text/plain": [
       "view      50736\n",
       "click        54\n",
       "report        6\n",
       "Name: event, dtype: int64"
      ]
     },
     "execution_count": 45,
     "metadata": {},
     "output_type": "execute_result"
    }
   ],
   "source": [
    "df[(df.agency_union_id)=='agency_2']['event'].value_counts()"
   ]
  },
  {
   "cell_type": "markdown",
   "metadata": {},
   "source": [
    "agency_2 среди всех событий выделяется 'view'"
   ]
  },
  {
   "cell_type": "code",
   "execution_count": 46,
   "metadata": {},
   "outputs": [
    {
     "data": {
      "text/plain": [
       "click     22217\n",
       "view      20799\n",
       "report     4251\n",
       "Name: event, dtype: int64"
      ]
     },
     "execution_count": 46,
     "metadata": {},
     "output_type": "execute_result"
    }
   ],
   "source": [
    "df[(df.agency_union_id)=='no_agency']['event'].value_counts()"
   ]
  },
  {
   "cell_type": "code",
   "execution_count": 47,
   "metadata": {},
   "outputs": [
    {
     "data": {
      "text/plain": [
       "view     339\n",
       "click      4\n",
       "Name: event, dtype: int64"
      ]
     },
     "execution_count": 47,
     "metadata": {},
     "output_type": "execute_result"
    }
   ],
   "source": [
    "df[(df.agency_union_id)=='agency_29']['event'].value_counts()"
   ]
  },
  {
   "cell_type": "markdown",
   "metadata": {},
   "source": [
    "Распределения событий других агенств разнородны"
   ]
  },
  {
   "cell_type": "code",
   "execution_count": 48,
   "metadata": {},
   "outputs": [
    {
     "data": {
      "text/plain": [
       "0    50736\n",
       "Name: has_video, dtype: int64"
      ]
     },
     "execution_count": 48,
     "metadata": {},
     "output_type": "execute_result"
    }
   ],
   "source": [
    "df[(df.agency_union_id=='agency_2')&(df.event=='view')]['has_video'].value_counts()"
   ]
  },
  {
   "cell_type": "markdown",
   "metadata": {},
   "source": [
    "Видео не имеется"
   ]
  },
  {
   "cell_type": "code",
   "execution_count": 49,
   "metadata": {},
   "outputs": [
    {
     "data": {
      "text/plain": [
       "0    121429\n",
       "1       668\n",
       "Name: has_video, dtype: int64"
      ]
     },
     "execution_count": 49,
     "metadata": {},
     "output_type": "execute_result"
    }
   ],
   "source": [
    "df['has_video'].value_counts()"
   ]
  },
  {
   "cell_type": "markdown",
   "metadata": {},
   "source": [
    "в выборке больше экземпляров без видео"
   ]
  },
  {
   "cell_type": "code",
   "execution_count": 50,
   "metadata": {},
   "outputs": [
    {
     "data": {
      "text/plain": [
       "client_47270    13931\n",
       "client_47269       92\n",
       "client_47296        2\n",
       "Name: client_union_id, dtype: int64"
      ]
     },
     "execution_count": 50,
     "metadata": {},
     "output_type": "execute_result"
    }
   ],
   "source": [
    "df[(df.agency_union_id=='agency_2')&(df.event=='view')&(df.date=='2019-04-11')]['client_union_id'].value_counts()"
   ]
  },
  {
   "cell_type": "markdown",
   "metadata": {},
   "source": [
    "agency_2 прослеживается связь с client_union_id - \"client_47270\""
   ]
  },
  {
   "cell_type": "code",
   "execution_count": 51,
   "metadata": {},
   "outputs": [
    {
     "data": {
      "text/plain": [
       "date        client_union_id\n",
       "2019-04-01  client_47296          87\n",
       "2019-04-02  client_47296         115\n",
       "2019-04-03  client_47269         196\n",
       "            client_47296          44\n",
       "2019-04-04  client_47269         193\n",
       "            client_47296          32\n",
       "2019-04-05  client_47270         211\n",
       "            client_47269         169\n",
       "            client_47296          11\n",
       "2019-04-06  client_47269         133\n",
       "            client_47296          20\n",
       "2019-04-07  client_47269         162\n",
       "            client_47296          25\n",
       "2019-04-08  client_47270        4376\n",
       "            client_47269         180\n",
       "            client_47296         100\n",
       "2019-04-09  client_47270        2875\n",
       "            client_47269         161\n",
       "            client_47296          80\n",
       "2019-04-10  client_47270        1988\n",
       "            client_47269         163\n",
       "            client_47296          38\n",
       "2019-04-11  client_47270       13931\n",
       "            client_47269          92\n",
       "            client_47296           2\n",
       "2019-04-12  client_47270        6687\n",
       "            client_47269         107\n",
       "            client_47296          38\n",
       "2019-04-13  client_47270        7587\n",
       "            client_47269         130\n",
       "            client_47296          39\n",
       "2019-04-14  client_47270        4908\n",
       "            client_47269         176\n",
       "            client_47296          31\n",
       "2019-04-15  client_47270        3270\n",
       "            client_47269         133\n",
       "            client_47296          45\n",
       "2019-04-16  client_47270        1855\n",
       "            client_47269         289\n",
       "            client_47296          57\n",
       "Name: client_union_id, dtype: int64"
      ]
     },
     "execution_count": 51,
     "metadata": {},
     "output_type": "execute_result"
    }
   ],
   "source": [
    "df[(df.agency_union_id=='agency_2')&(df.event=='view')].groupby('date')['client_union_id'].value_counts()"
   ]
  },
  {
   "cell_type": "code",
   "execution_count": 52,
   "metadata": {},
   "outputs": [
    {
     "data": {
      "text/plain": [
       "2019-04-11    13941\n",
       "2019-04-13     7593\n",
       "2019-04-12     6698\n",
       "2019-04-14     4913\n",
       "2019-04-08     4378\n",
       "2019-04-15     3278\n",
       "2019-04-09     2879\n",
       "2019-04-10     1991\n",
       "2019-04-16     1857\n",
       "2019-04-05      211\n",
       "Name: date, dtype: int64"
      ]
     },
     "execution_count": 52,
     "metadata": {},
     "output_type": "execute_result"
    }
   ],
   "source": [
    "df[(df.client_union_id == 'client_47270')]['date'].value_counts()"
   ]
  },
  {
   "cell_type": "markdown",
   "metadata": {},
   "source": [
    "client_47270 имеет самую большую долю просмотров agency_2 по всем дням"
   ]
  },
  {
   "cell_type": "code",
   "execution_count": 53,
   "metadata": {},
   "outputs": [
    {
     "data": {
      "text/plain": [
       "campaign_49554    47688\n",
       "campaign_47269     1866\n",
       "campaign_47279      418\n",
       "campaign_97294      357\n",
       "campaign_97299      141\n",
       "campaign_97293      134\n",
       "campaign_97307       63\n",
       "campaign_97306       50\n",
       "campaign_97296       19\n",
       "Name: campaign_union_id, dtype: int64"
      ]
     },
     "execution_count": 53,
     "metadata": {},
     "output_type": "execute_result"
    }
   ],
   "source": [
    "df[(df.agency_union_id=='agency_2')&(df.event=='view')]['campaign_union_id'].value_counts()"
   ]
  },
  {
   "cell_type": "code",
   "execution_count": 54,
   "metadata": {},
   "outputs": [
    {
     "data": {
      "text/html": [
       "<div>\n",
       "<style scoped>\n",
       "    .dataframe tbody tr th:only-of-type {\n",
       "        vertical-align: middle;\n",
       "    }\n",
       "\n",
       "    .dataframe tbody tr th {\n",
       "        vertical-align: top;\n",
       "    }\n",
       "\n",
       "    .dataframe thead th {\n",
       "        text-align: right;\n",
       "    }\n",
       "</style>\n",
       "<table border=\"1\" class=\"dataframe\">\n",
       "  <thead>\n",
       "    <tr style=\"text-align: right;\">\n",
       "      <th></th>\n",
       "      <th>time</th>\n",
       "      <th>event</th>\n",
       "      <th>ad_cost_type</th>\n",
       "      <th>has_video</th>\n",
       "      <th>agency_union_id</th>\n",
       "      <th>client_union_id</th>\n",
       "      <th>campaign_union_id</th>\n",
       "      <th>ad_id</th>\n",
       "      <th>platform</th>\n",
       "      <th>date</th>\n",
       "    </tr>\n",
       "  </thead>\n",
       "  <tbody>\n",
       "    <tr>\n",
       "      <th>16</th>\n",
       "      <td>2019-04-11 20:02:17</td>\n",
       "      <td>view</td>\n",
       "      <td>CPC</td>\n",
       "      <td>0</td>\n",
       "      <td>agency_2</td>\n",
       "      <td>client_47269</td>\n",
       "      <td>campaign_47269</td>\n",
       "      <td>ad_47269</td>\n",
       "      <td>android</td>\n",
       "      <td>2019-04-11</td>\n",
       "    </tr>\n",
       "    <tr>\n",
       "      <th>19</th>\n",
       "      <td>2019-04-11 19:30:01</td>\n",
       "      <td>view</td>\n",
       "      <td>CPC</td>\n",
       "      <td>0</td>\n",
       "      <td>agency_2</td>\n",
       "      <td>client_47270</td>\n",
       "      <td>campaign_49554</td>\n",
       "      <td>ad_49554</td>\n",
       "      <td>android</td>\n",
       "      <td>2019-04-11</td>\n",
       "    </tr>\n",
       "    <tr>\n",
       "      <th>22</th>\n",
       "      <td>2019-04-11 10:08:03</td>\n",
       "      <td>view</td>\n",
       "      <td>CPC</td>\n",
       "      <td>0</td>\n",
       "      <td>agency_2</td>\n",
       "      <td>client_47270</td>\n",
       "      <td>campaign_49554</td>\n",
       "      <td>ad_49554</td>\n",
       "      <td>android</td>\n",
       "      <td>2019-04-11</td>\n",
       "    </tr>\n",
       "    <tr>\n",
       "      <th>25</th>\n",
       "      <td>2019-04-11 06:31:51</td>\n",
       "      <td>view</td>\n",
       "      <td>CPC</td>\n",
       "      <td>0</td>\n",
       "      <td>agency_2</td>\n",
       "      <td>client_47270</td>\n",
       "      <td>campaign_49554</td>\n",
       "      <td>ad_49560</td>\n",
       "      <td>android</td>\n",
       "      <td>2019-04-11</td>\n",
       "    </tr>\n",
       "    <tr>\n",
       "      <th>43</th>\n",
       "      <td>2019-04-11 11:15:49</td>\n",
       "      <td>view</td>\n",
       "      <td>CPC</td>\n",
       "      <td>0</td>\n",
       "      <td>agency_2</td>\n",
       "      <td>client_47270</td>\n",
       "      <td>campaign_49554</td>\n",
       "      <td>ad_49554</td>\n",
       "      <td>android</td>\n",
       "      <td>2019-04-11</td>\n",
       "    </tr>\n",
       "  </tbody>\n",
       "</table>\n",
       "</div>"
      ],
      "text/plain": [
       "                  time event ad_cost_type  has_video agency_union_id  \\\n",
       "16 2019-04-11 20:02:17  view          CPC          0        agency_2   \n",
       "19 2019-04-11 19:30:01  view          CPC          0        agency_2   \n",
       "22 2019-04-11 10:08:03  view          CPC          0        agency_2   \n",
       "25 2019-04-11 06:31:51  view          CPC          0        agency_2   \n",
       "43 2019-04-11 11:15:49  view          CPC          0        agency_2   \n",
       "\n",
       "   client_union_id campaign_union_id     ad_id platform       date  \n",
       "16    client_47269    campaign_47269  ad_47269  android 2019-04-11  \n",
       "19    client_47270    campaign_49554  ad_49554  android 2019-04-11  \n",
       "22    client_47270    campaign_49554  ad_49554  android 2019-04-11  \n",
       "25    client_47270    campaign_49554  ad_49560  android 2019-04-11  \n",
       "43    client_47270    campaign_49554  ad_49554  android 2019-04-11  "
      ]
     },
     "execution_count": 54,
     "metadata": {},
     "output_type": "execute_result"
    }
   ],
   "source": [
    "df[(df.date=='2019-04-11')&(df.event=='view')].head()"
   ]
  },
  {
   "cell_type": "code",
   "execution_count": 55,
   "metadata": {},
   "outputs": [
    {
     "data": {
      "text/plain": [
       "11    1876\n",
       "10    1733\n",
       "12    1690\n",
       "13    1520\n",
       "14    1426\n",
       "15    1195\n",
       "18     749\n",
       "16     749\n",
       "20     732\n",
       "19     722\n",
       "21     719\n",
       "17     699\n",
       "22     611\n",
       "9      466\n",
       "23     440\n",
       "8      229\n",
       "7      166\n",
       "6      125\n",
       "0       73\n",
       "5       64\n",
       "4       43\n",
       "3       26\n",
       "1       26\n",
       "2       18\n",
       "Name: time, dtype: int64"
      ]
     },
     "execution_count": 55,
     "metadata": {},
     "output_type": "execute_result"
    }
   ],
   "source": [
    "df[(df.date=='2019-04-11')&(df.event=='view')]['time'].apply(lambda x: x.hour).value_counts()"
   ]
  },
  {
   "cell_type": "markdown",
   "metadata": {},
   "source": [
    "По времени не имеется аномальных тенденций"
   ]
  },
  {
   "cell_type": "code",
   "execution_count": 56,
   "metadata": {},
   "outputs": [
    {
     "data": {
      "text/plain": [
       "ad_49554    27464\n",
       "ad_49556     8215\n",
       "ad_49560     7489\n",
       "ad_49564     4486\n",
       "ad_47269     1866\n",
       "ad_49136      418\n",
       "ad_97427      357\n",
       "ad_97803      141\n",
       "ad_97293      134\n",
       "ad_97994       63\n",
       "ad_97944       50\n",
       "ad_50872       34\n",
       "ad_97784       19\n",
       "Name: ad_id, dtype: int64"
      ]
     },
     "execution_count": 56,
     "metadata": {},
     "output_type": "execute_result"
    }
   ],
   "source": [
    "df[(df.agency_union_id=='agency_2')&(df.event=='view')]['ad_id'].value_counts()"
   ]
  },
  {
   "cell_type": "code",
   "execution_count": 57,
   "metadata": {},
   "outputs": [
    {
     "data": {
      "text/plain": [
       "view      27464\n",
       "click        31\n",
       "report        5\n",
       "Name: event, dtype: int64"
      ]
     },
     "execution_count": 57,
     "metadata": {},
     "output_type": "execute_result"
    }
   ],
   "source": [
    "df[(df.ad_id=='ad_49554')]['event'].value_counts()"
   ]
  },
  {
   "cell_type": "code",
   "execution_count": 58,
   "metadata": {},
   "outputs": [
    {
     "data": {
      "text/plain": [
       "date        event \n",
       "2019-04-10  view       272\n",
       "2019-04-11  view      9631\n",
       "            click        6\n",
       "            report       3\n",
       "2019-04-12  view      4859\n",
       "            click        8\n",
       "            report       1\n",
       "2019-04-13  view      6270\n",
       "            click        4\n",
       "            report       1\n",
       "2019-04-14  view      3688\n",
       "            click        5\n",
       "2019-04-15  view      2356\n",
       "            click        8\n",
       "2019-04-16  view       388\n",
       "Name: event, dtype: int64"
      ]
     },
     "execution_count": 58,
     "metadata": {},
     "output_type": "execute_result"
    }
   ],
   "source": [
    "df[(df.ad_id=='ad_49554')].groupby('date')['event'].value_counts()"
   ]
  },
  {
   "cell_type": "code",
   "execution_count": 59,
   "metadata": {},
   "outputs": [
    {
     "data": {
      "text/plain": [
       "campaign_49554    13941\n",
       "campaign_387        143\n",
       "campaign_47269       79\n",
       "campaign_99242       73\n",
       "campaign_5822        62\n",
       "Name: campaign_union_id, dtype: int64"
      ]
     },
     "execution_count": 59,
     "metadata": {},
     "output_type": "execute_result"
    }
   ],
   "source": [
    "df[(df.date == '2019-04-11')]['campaign_union_id'].value_counts().head()"
   ]
  },
  {
   "cell_type": "markdown",
   "metadata": {},
   "source": [
    "Большая активность набора рекламных объявлений \"campaign_49554\""
   ]
  },
  {
   "cell_type": "code",
   "execution_count": 60,
   "metadata": {},
   "outputs": [
    {
     "data": {
      "text/html": [
       "<div>\n",
       "<style scoped>\n",
       "    .dataframe tbody tr th:only-of-type {\n",
       "        vertical-align: middle;\n",
       "    }\n",
       "\n",
       "    .dataframe tbody tr th {\n",
       "        vertical-align: top;\n",
       "    }\n",
       "\n",
       "    .dataframe thead th {\n",
       "        text-align: right;\n",
       "    }\n",
       "</style>\n",
       "<table border=\"1\" class=\"dataframe\">\n",
       "  <thead>\n",
       "    <tr style=\"text-align: right;\">\n",
       "      <th></th>\n",
       "      <th>agency_union_id</th>\n",
       "      <th>client_union_id</th>\n",
       "    </tr>\n",
       "  </thead>\n",
       "  <tbody>\n",
       "    <tr>\n",
       "      <th>19</th>\n",
       "      <td>agency_2</td>\n",
       "      <td>client_47270</td>\n",
       "    </tr>\n",
       "    <tr>\n",
       "      <th>22</th>\n",
       "      <td>agency_2</td>\n",
       "      <td>client_47270</td>\n",
       "    </tr>\n",
       "    <tr>\n",
       "      <th>25</th>\n",
       "      <td>agency_2</td>\n",
       "      <td>client_47270</td>\n",
       "    </tr>\n",
       "    <tr>\n",
       "      <th>43</th>\n",
       "      <td>agency_2</td>\n",
       "      <td>client_47270</td>\n",
       "    </tr>\n",
       "    <tr>\n",
       "      <th>44</th>\n",
       "      <td>agency_2</td>\n",
       "      <td>client_47270</td>\n",
       "    </tr>\n",
       "    <tr>\n",
       "      <th>47</th>\n",
       "      <td>agency_2</td>\n",
       "      <td>client_47270</td>\n",
       "    </tr>\n",
       "    <tr>\n",
       "      <th>48</th>\n",
       "      <td>agency_2</td>\n",
       "      <td>client_47270</td>\n",
       "    </tr>\n",
       "    <tr>\n",
       "      <th>53</th>\n",
       "      <td>agency_2</td>\n",
       "      <td>client_47270</td>\n",
       "    </tr>\n",
       "    <tr>\n",
       "      <th>60</th>\n",
       "      <td>agency_2</td>\n",
       "      <td>client_47270</td>\n",
       "    </tr>\n",
       "    <tr>\n",
       "      <th>69</th>\n",
       "      <td>agency_2</td>\n",
       "      <td>client_47270</td>\n",
       "    </tr>\n",
       "  </tbody>\n",
       "</table>\n",
       "</div>"
      ],
      "text/plain": [
       "   agency_union_id client_union_id\n",
       "19        agency_2    client_47270\n",
       "22        agency_2    client_47270\n",
       "25        agency_2    client_47270\n",
       "43        agency_2    client_47270\n",
       "44        agency_2    client_47270\n",
       "47        agency_2    client_47270\n",
       "48        agency_2    client_47270\n",
       "53        agency_2    client_47270\n",
       "60        agency_2    client_47270\n",
       "69        agency_2    client_47270"
      ]
     },
     "execution_count": 60,
     "metadata": {},
     "output_type": "execute_result"
    }
   ],
   "source": [
    "df[(df.date == '2019-04-11')&(\n",
    "    df.campaign_union_id == 'campaign_49554')][['agency_union_id','client_union_id']].head(10)"
   ]
  },
  {
   "cell_type": "code",
   "execution_count": 61,
   "metadata": {},
   "outputs": [
    {
     "data": {
      "text/plain": [
       "(13941, 2)"
      ]
     },
     "execution_count": 61,
     "metadata": {},
     "output_type": "execute_result"
    }
   ],
   "source": [
    "df[(df.date == '2019-04-11')&(\n",
    "    df.campaign_union_id == 'campaign_49554')][['agency_union_id','client_union_id']].shape"
   ]
  },
  {
   "cell_type": "code",
   "execution_count": 62,
   "metadata": {},
   "outputs": [
    {
     "data": {
      "text/plain": [
       "agency_union_id  client_union_id\n",
       "agency_2         client_47270       13941\n",
       "Name: client_union_id, dtype: int64"
      ]
     },
     "execution_count": 62,
     "metadata": {},
     "output_type": "execute_result"
    }
   ],
   "source": [
    "df[(df.date == '2019-04-11')&(\n",
    "    df.campaign_union_id == 'campaign_49554')].groupby('agency_union_id')['client_union_id'].value_counts()"
   ]
  },
  {
   "cell_type": "markdown",
   "metadata": {},
   "source": [
    "У рекламного агенства 'agency_2' только один клиент 'client_47270' в этот день(аномальной активности)"
   ]
  },
  {
   "cell_type": "code",
   "execution_count": 63,
   "metadata": {},
   "outputs": [
    {
     "data": {
      "text/plain": [
       "agency_union_id  date        event   client_union_id\n",
       "agency_2         2019-04-05  view    client_47270         211\n",
       "                 2019-04-08  click   client_47270           2\n",
       "                             view    client_47270        4376\n",
       "                 2019-04-09  click   client_47270           4\n",
       "                             view    client_47270        2875\n",
       "                 2019-04-10  click   client_47270           2\n",
       "                             report  client_47270           1\n",
       "                             view    client_47270        1988\n",
       "                 2019-04-11  click   client_47270           7\n",
       "                             report  client_47270           3\n",
       "                             view    client_47270       13931\n",
       "                 2019-04-12  click   client_47270          10\n",
       "                             report  client_47270           1\n",
       "                             view    client_47270        6687\n",
       "                 2019-04-13  click   client_47270           5\n",
       "                             report  client_47270           1\n",
       "                             view    client_47270        7587\n",
       "                 2019-04-14  click   client_47270           5\n",
       "                             view    client_47270        4908\n",
       "                 2019-04-15  click   client_47270           8\n",
       "                             view    client_47270        3270\n",
       "                 2019-04-16  click   client_47270           2\n",
       "                             view    client_47270        1855\n",
       "Name: client_union_id, dtype: int64"
      ]
     },
     "execution_count": 63,
     "metadata": {},
     "output_type": "execute_result"
    }
   ],
   "source": [
    "df[(df.campaign_union_id == 'campaign_49554')].groupby(\n",
    "    ['agency_union_id','date','event'])['client_union_id'].value_counts()"
   ]
  },
  {
   "cell_type": "markdown",
   "metadata": {},
   "source": [
    "Тот же клиент в другие дни"
   ]
  },
  {
   "cell_type": "code",
   "execution_count": 64,
   "metadata": {},
   "outputs": [
    {
     "data": {
      "text/plain": [
       "agency_union_id  date        event \n",
       "agency_2         2019-04-05  view        211\n",
       "                 2019-04-08  view       4376\n",
       "                             click         2\n",
       "                 2019-04-09  view       2875\n",
       "                             click         4\n",
       "                 2019-04-10  view       1988\n",
       "                             click         2\n",
       "                             report        1\n",
       "                 2019-04-11  view      13931\n",
       "                             click         7\n",
       "                             report        3\n",
       "                 2019-04-12  view       6687\n",
       "                             click        10\n",
       "                             report        1\n",
       "                 2019-04-13  view       7587\n",
       "                             click         5\n",
       "                             report        1\n",
       "                 2019-04-14  view       4908\n",
       "                             click         5\n",
       "                 2019-04-15  view       3270\n",
       "                             click         8\n",
       "                 2019-04-16  view       1855\n",
       "                             click         2\n",
       "Name: event, dtype: int64"
      ]
     },
     "execution_count": 64,
     "metadata": {},
     "output_type": "execute_result"
    }
   ],
   "source": [
    "df[(df.client_union_id) == 'client_47270'].groupby(['agency_union_id','date'])['event'].value_counts()"
   ]
  },
  {
   "cell_type": "markdown",
   "metadata": {},
   "source": [
    "Активность данного клиента (client_47270) только у данного агенства (arancy_2)."
   ]
  },
  {
   "cell_type": "markdown",
   "metadata": {},
   "source": [
    "**Вывод:** требуется отслеживать активную деятельность клиента. Если они соответсвуют Только конкретному клиенту (кроме 'no_agency', который не соотвествует конкретному лицу) - принемать меры"
   ]
  },
  {
   "cell_type": "code",
   "execution_count": 65,
   "metadata": {},
   "outputs": [
    {
     "data": {
      "text/plain": [
       "client_union_id  agency_union_id\n",
       "client_47270     agency_2           47739\n",
       "client_47269     agency_2            2285\n",
       "client_99583     agency_33           1732\n",
       "client_42        no_agency           1493\n",
       "client_102753    agency_70            874\n",
       "Name: agency_union_id, dtype: int64"
      ]
     },
     "execution_count": 65,
     "metadata": {},
     "output_type": "execute_result"
    }
   ],
   "source": [
    "df.groupby(['client_union_id'])['agency_union_id'].value_counts().sort_values(ascending=False).head()"
   ]
  },
  {
   "cell_type": "code",
   "execution_count": 66,
   "metadata": {},
   "outputs": [
    {
     "data": {
      "text/plain": [
       "client_union_id  agency_union_id\n",
       "client_1         no_agency           294\n",
       "client_10        no_agency            40\n",
       "client_100       no_agency            41\n",
       "client_1000      no_agency            10\n",
       "client_10021     no_agency             1\n",
       "client_10031     no_agency             4\n",
       "client_10039     no_agency             2\n",
       "client_1004      no_agency            31\n",
       "client_1005      no_agency            12\n",
       "client_10085     no_agency            17\n",
       "client_10096     no_agency            37\n",
       "client_101       no_agency             4\n",
       "client_10127     no_agency             1\n",
       "client_10134     no_agency             1\n",
       "client_101388    agency_33             2\n",
       "client_101391    agency_33             2\n",
       "client_101392    agency_33             1\n",
       "client_101394    agency_33             1\n",
       "client_101395    agency_34           427\n",
       "client_101468    agency_34             2\n",
       "client_101506    agency_34             3\n",
       "client_10157     no_agency             6\n",
       "client_10166     no_agency             3\n",
       "client_101827    agency_34             5\n",
       "client_101828    agency_34             2\n",
       "client_101830    agency_34             3\n",
       "client_101832    agency_34             4\n",
       "client_101833    agency_34             3\n",
       "client_101844    agency_39            35\n",
       "client_101879    agency_39             1\n",
       "                                    ... \n",
       "client_98986     agency_11            14\n",
       "client_98987     agency_11             3\n",
       "client_98989     agency_11             5\n",
       "client_98999     agency_11             1\n",
       "client_99        no_agency            11\n",
       "client_990       no_agency             3\n",
       "client_99011     agency_11             1\n",
       "client_99013     agency_11             4\n",
       "client_99044     agency_11             2\n",
       "client_99054     agency_15            88\n",
       "client_99142     agency_21            67\n",
       "client_992       no_agency             6\n",
       "client_99205     agency_21            17\n",
       "client_99206     agency_21             9\n",
       "client_99207     agency_21             1\n",
       "client_99208     agency_21             1\n",
       "client_99212     agency_21             1\n",
       "client_99228     agency_21             1\n",
       "client_99239     agency_29           332\n",
       "client_99266     agency_29             7\n",
       "client_994       no_agency            10\n",
       "client_995       no_agency            38\n",
       "client_99578     agency_29             4\n",
       "client_99582     agency_33            61\n",
       "client_99583     agency_33          1732\n",
       "client_996       no_agency             3\n",
       "client_99612     agency_33             4\n",
       "client_99658     agency_33             5\n",
       "client_9967      no_agency             3\n",
       "client_99754     agency_33             5\n",
       "Name: agency_union_id, Length: 8709, dtype: int64"
      ]
     },
     "execution_count": 66,
     "metadata": {},
     "output_type": "execute_result"
    }
   ],
   "source": [
    "df.groupby('client_union_id')['agency_union_id'].value_counts()"
   ]
  }
 ],
 "metadata": {
  "kernelspec": {
   "display_name": "Python 3",
   "language": "python",
   "name": "python3"
  },
  "language_info": {
   "codemirror_mode": {
    "name": "ipython",
    "version": 3
   },
   "file_extension": ".py",
   "mimetype": "text/x-python",
   "name": "python",
   "nbconvert_exporter": "python",
   "pygments_lexer": "ipython3",
   "version": "3.7.3"
  }
 },
 "nbformat": 4,
 "nbformat_minor": 2
}
